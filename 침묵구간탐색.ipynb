{
 "cells": [
  {
   "cell_type": "code",
   "execution_count": 1,
   "metadata": {},
   "outputs": [],
   "source": [
    "# pip install speechrecogniton\n",
    "import speech_recognition as sr"
   ]
  },
  {
   "cell_type": "code",
   "execution_count": 2,
   "metadata": {},
   "outputs": [],
   "source": [
    "r = sr.Recognizer()"
   ]
  },
  {
   "cell_type": "markdown",
   "metadata": {},
   "source": [
    "# 1. 원본 음성 파일 STT\n",
    "\n",
    "## 원하는 결과\n",
    "\n",
    "미국과 중국의 대립은 역사에서 계속해서 반복 돼온 강대국들과의 싸움과는 다릅니다. 어느 쪽이 이길지 하는 이기는가 하는 싸움이 아닙니다. 어- 미국과 소련의 대립에 비교하면 미국과 중국은 어- 간단히 어- 나라가 분열된 게 분열된 상황이 아닙니다.\n",
    "\n",
    "트럼프 대통령이 화웨이 중국의 화웨이 등 중국 제품을 미국에서 어- 전부 없애려고 해도 그건 미국 경제에도 악영향을 미치게 되고 중국도 피해를 입게 되는 상황이 벌어집니다."
   ]
  },
  {
   "cell_type": "code",
   "execution_count": 15,
   "metadata": {},
   "outputs": [],
   "source": [
    "sample = sr.AudioFile('C://Users/user/Desktop/sample.wav')"
   ]
  },
  {
   "cell_type": "code",
   "execution_count": 16,
   "metadata": {},
   "outputs": [
    {
     "data": {
      "text/plain": [
       "'오늘 밤 남극을 제외한 모든 대륙에서 코로나바이러스감염증 있으며 한국 한국에서는 현재 500원 이상해 새로운 가늠자가 추가 발생하고 있다 미국 검역소에서는 거 2만명의 사람들이 검사를 기다리고 있었다'"
      ]
     },
     "execution_count": 16,
     "metadata": {},
     "output_type": "execute_result"
    }
   ],
   "source": [
    "with sample as source:\n",
    "    audio = r.record(source)\n",
    "    \n",
    "r.recognize_google(audio_data = audio, language = \"ko-KR\")"
   ]
  },
  {
   "cell_type": "markdown",
   "metadata": {},
   "source": [
    "### Google STT 한계점\n",
    "1. '어-' 등의 추임새를 표현하지 못함\n",
    "2. 문단 구분 가능할까\n",
    "3. '+'는 무엇..?"
   ]
  },
  {
   "cell_type": "markdown",
   "metadata": {},
   "source": [
    "# 2. 침묵 구간 표시"
   ]
  },
  {
   "cell_type": "code",
   "execution_count": 7,
   "metadata": {},
   "outputs": [
    {
     "name": "stderr",
     "output_type": "stream",
     "text": [
      "c:\\users\\user\\appdata\\local\\programs\\python\\python36\\lib\\site-packages\\pydub\\utils.py:170: RuntimeWarning: Couldn't find ffmpeg or avconv - defaulting to ffmpeg, but may not work\n",
      "  warn(\"Couldn't find ffmpeg or avconv - defaulting to ffmpeg, but may not work\", RuntimeWarning)\n"
     ]
    }
   ],
   "source": [
    "from pydub import AudioSegment"
   ]
  },
  {
   "cell_type": "code",
   "execution_count": 8,
   "metadata": {},
   "outputs": [],
   "source": [
    "from os import listdir\n",
    "from os.path import isfile, join"
   ]
  },
  {
   "cell_type": "code",
   "execution_count": 9,
   "metadata": {},
   "outputs": [],
   "source": [
    "from pydub.silence import split_on_silence"
   ]
  },
  {
   "cell_type": "code",
   "execution_count": 10,
   "metadata": {},
   "outputs": [
    {
     "data": {
      "text/plain": [
       "-27.41129033345151"
      ]
     },
     "execution_count": 10,
     "metadata": {},
     "output_type": "execute_result"
    }
   ],
   "source": [
    "sound_file = AudioSegment.from_wav(\"C://Users/user/Desktop/sample.wav\")\n",
    "sound_file.dBFS"
   ]
  },
  {
   "cell_type": "code",
   "execution_count": 11,
   "metadata": {},
   "outputs": [],
   "source": [
    "# 침묵 구간 기준으로 자르기\n",
    "audio_chunks = split_on_silence(\n",
    "    # Use the loaded audio\n",
    "    sound_file, \n",
    "    \n",
    "    # must be silent for at least half a second\n",
    "    min_silence_len=500,\n",
    "\n",
    "    # consider it silent if quieter than -57 dBFS\n",
    "    silence_thresh=-57\n",
    ")"
   ]
  },
  {
   "cell_type": "code",
   "execution_count": 12,
   "metadata": {},
   "outputs": [
    {
     "name": "stdout",
     "output_type": "stream",
     "text": [
      "exporting .//splitAudio//chunk0.wav\n",
      "exporting .//splitAudio//chunk1.wav\n",
      "exporting .//splitAudio//chunk2.wav\n",
      "exporting .//splitAudio//chunk3.wav\n",
      "exporting .//splitAudio//chunk4.wav\n",
      "exporting .//splitAudio//chunk5.wav\n",
      "exporting .//splitAudio//chunk6.wav\n"
     ]
    }
   ],
   "source": [
    "for i, chunk in enumerate(audio_chunks):\n",
    "    out_file = \".//splitAudio//chunk{0}.wav\".format(i)\n",
    "    print(\"exporting\", out_file)\n",
    "    chunk.export(out_file, format=\"wav\")"
   ]
  },
  {
   "cell_type": "code",
   "execution_count": 14,
   "metadata": {},
   "outputs": [
    {
     "name": "stdout",
     "output_type": "stream",
     "text": [
      "미국과 중국의 대립은 역사에서 계속해서 반복되는 강대국들과의 싸움과는 다릅니다 [...] 어느 쪽이 일치하는 이기는가 하는 상황이 아니니 [...] 미국과 소련의 대립에 비교하면 미국과 중국은 [...] 간단히 [...] 나라가 분열되는 [...] 분열된 상황이 아님 [...] 트럼프 대통령이 화웨이 중국의 화웨이 등 중국 제품을 미국에서 전부 없애려고 해도 그건 미국 경제의 + 영향을 미치게 되고 중국도 피해를 입게 되는 상황이 벌어집니다 [...] "
     ]
    }
   ],
   "source": [
    "for i in range(len(audio_chunks)):\n",
    "    sample_chunk = sr.AudioFile('./splitAudio/chunk{0}.wav'.format(i))\n",
    "    with sample_chunk as source:\n",
    "        audio_chunk = r.record(source)\n",
    "    result = r.recognize_google(audio_data = audio_chunk, language = \"ko-KR\")\n",
    "    print(result,end=' [...] ')"
   ]
  },
  {
   "cell_type": "markdown",
   "metadata": {},
   "source": [
    "### 말의 어미가 잘리는 경우가 발생함  \n",
    "- 아닙니다 -> 아니니\n",
    "- 아닙니다 -> 아님\n"
   ]
  },
  {
   "cell_type": "code",
   "execution_count": 67,
   "metadata": {},
   "outputs": [
    {
     "data": {
      "text/plain": [
       "pydub.audio_segment.AudioSegment"
      ]
     },
     "execution_count": 67,
     "metadata": {},
     "output_type": "execute_result"
    }
   ],
   "source": [
    "type(audio_chunks[1])"
   ]
  },
  {
   "cell_type": "code",
   "execution_count": null,
   "metadata": {},
   "outputs": [],
   "source": []
  },
  {
   "cell_type": "code",
   "execution_count": null,
   "metadata": {},
   "outputs": [],
   "source": [
    "# 침묵구간 길이 구하는 코드\n",
    "def get_silence(audio, threshold, interval):\n",
    "    \"get length of silence in seconds from a wav file\"\n",
    "\n",
    "    # swap out pydub import for other types of audio\n",
    "    song = AudioSegment.from_wav(audio)\n",
    "\n",
    "    # break into chunks\n",
    "    chunks = [song[i:i+interval] for i in range(0, len(song), interval)]\n",
    "\n",
    "    # find number of chunks with dBFS below threshold\n",
    "    silent_blocks = 0\n",
    "    for c in chunks:\n",
    "        if c.dBFS == float('-inf') or c.dBFS < threshold:\n",
    "            silent_blocks += 1\n",
    "        else:\n",
    "            break\n",
    "\n",
    "    # convert blocks into seconds\n",
    "    return round(silent_blocks * (interval/1000), 3)\n",
    "\n",
    "# get files in a directory\n",
    "audio_path = 'path/to/directory'\n",
    "audio_files = [i for i in listdir(audio_path) if isfile(join(audio_path, i))]\n",
    "\n",
    "threshold = -80 # tweak based on signal-to-noise ratio\n",
    "\n",
    "interval = 1 # ms, increase to speed up\n",
    "\n",
    "leading_silences = {a: get_silence(join(audio_path, a),\n",
    "                                   threshold, interval) for a in audio_files}\n",
    "\n",
    "# to get tab-separated values:\n",
    "for name, leading_silence in leading_silences.items():\n",
    "    print(''.join([name, '\\t', str(leading_silence)]))"
   ]
  }
 ],
 "metadata": {
  "kernelspec": {
   "display_name": "Python 3",
   "language": "python",
   "name": "python3"
  },
  "language_info": {
   "codemirror_mode": {
    "name": "ipython",
    "version": 3
   },
   "file_extension": ".py",
   "mimetype": "text/x-python",
   "name": "python",
   "nbconvert_exporter": "python",
   "pygments_lexer": "ipython3",
   "version": "3.6.8"
  }
 },
 "nbformat": 4,
 "nbformat_minor": 2
}
